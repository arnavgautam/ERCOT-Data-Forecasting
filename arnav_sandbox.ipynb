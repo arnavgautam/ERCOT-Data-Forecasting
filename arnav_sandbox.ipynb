{
 "cells": [
  {
   "cell_type": "code",
   "execution_count": 149,
   "metadata": {
    "scrolled": false
   },
   "outputs": [
    {
     "name": "stdout",
     "output_type": "stream",
     "text": [
      "(23,)\n"
     ]
    }
   ],
   "source": [
    "%matplotlib notebook\n",
    "\n",
    "import pandas as pd\n",
    "from fastkml import  kml\n",
    "from matplotlib import pyplot as plt\n",
    "\n",
    "# The wind farm data (140256 timestamps x 164 wind farms)\n",
    "ercot_wind_power = pd.read_pickle(\"ercot_wind_power.pkl\")\n",
    "# print(ercot_wind_power.columns)\n",
    "\n",
    "# get the locations for each of the wind farms\n",
    "ercot_locations = []\n",
    "with open(\"rtmLmpPoints.kml\", 'rt', encoding=\"utf-8\") as ercot_location_file:\n",
    "    doc = ercot_location_file.read()\n",
    "    k = kml.KML()\n",
    "    k.from_string(doc)\n",
    "    features = list(k.features())\n",
    "    for folder in features[0].features():\n",
    "        for feat in folder.features():\n",
    "            retval = list(feat.geometry.coords[0])\n",
    "            retval[2] = feat.name\n",
    "            ercot_locations.append(retval)\n",
    "    ercot_location_file.close()\n",
    "\n",
    "coords_df = pd.DataFrame(index=[loc[2] for loc in ercot_locations])\n",
    "# print(coords_df.index)\n",
    "print(coords_df.index.intersection(ercot_wind_power.columns).shape)\n",
    "# print(ercot_locations[0])\n",
    "# print([loc[2] for loc in ercot_locations])\n",
    "# print(ercot_wind_power)\n",
    "    \n",
    "# Plot the last few days of wind farm output for 4 of the wind farms\n",
    "# ercot_wind_power.iloc[-168*4:,160:].plot()\n",
    "# plt.ylabel(\"Wind power production (MWh)\")"
   ]
  },
  {
   "cell_type": "code",
   "execution_count": 150,
   "metadata": {
    "scrolled": true
   },
   "outputs": [
    {
     "name": "stdout",
     "output_type": "stream",
     "text": [
      "(140256, 164)\n"
     ]
    }
   ],
   "source": [
    "# To know how many timestamps we have data for, as well as how many wind farms there are overall\n",
    "print(ercot_wind_power.shape)"
   ]
  },
  {
   "cell_type": "code",
   "execution_count": 151,
   "metadata": {
    "scrolled": true
   },
   "outputs": [],
   "source": [
    "import numpy as np\n",
    "from fastkml import  kml\n",
    "\n",
    "# Locations corresponding to each of the NAM forecasts (140x140x2)\n",
    "# latitudes = nam_locations[:,:,0]\n",
    "# longitudes = nam_locations[:,:,1]\n",
    "nam_locations = np.load(\"nam_locations.npy\")\n",
    "\n",
    "# The first shard of the NAM weather forecasting model output (Nx140x140x9)\n",
    "# Each entry covers the entire 140x140 grid, \n",
    "# indicating forecasted value for the 9 weather variables in that single time stamp\n",
    "nam_data_0 = np.load(\"nam_data-00000-of-00032.npy\")\n",
    "\n",
    "# A one-dimensional list of the timestamps for the NAM inputs (24049x1)\n",
    "# The dimension is the number of 1 HOUR INTERVALS in the time period\n",
    "# TODO make NAM's hourly data work with ERCOT's 15-minute data\n",
    "nam_timestamps = pd.read_pickle(\"nam_timestamps.pkl\")\n",
    "\n",
    "# The semantics of the 9 variables that NAM predicts\n",
    "NAM_FIELDS = [\n",
    "    \"accum_precip\",\n",
    "    \"dewpoint_temperature_2m\",\n",
    "    \"downward_short_wave_flux\",\n",
    "    \"relative_humidity_2m\",\n",
    "    \"sea_level_pressure\",\n",
    "    \"temperature_2m\",\n",
    "    \"total_cloud_cover\",\n",
    "    \"u_wind_80m\",\n",
    "    \"v_wind_80m\",\n",
    "]\n",
    "\n",
    "# print(nam_data_0[0,0,0,:])\n",
    "# print(nam_locations[0])\n",
    "# print(latitudes.shape)\n",
    "# print(longitudes[0][0])\n",
    "\n",
    "# ercot_wind_power.iloc[-168*4:,160:].plot()\n",
    "\n",
    "# plt.figure(figsize=(30,10))\n"
   ]
  },
  {
   "cell_type": "code",
   "execution_count": 152,
   "metadata": {},
   "outputs": [
    {
     "name": "stdout",
     "output_type": "stream",
     "text": [
      "24049\n"
     ]
    }
   ],
   "source": [
    "print(len(nam_timestamps))"
   ]
  },
  {
   "cell_type": "code",
   "execution_count": null,
   "metadata": {},
   "outputs": [],
   "source": []
  },
  {
   "cell_type": "code",
   "execution_count": null,
   "metadata": {},
   "outputs": [],
   "source": []
  },
  {
   "cell_type": "code",
   "execution_count": null,
   "metadata": {},
   "outputs": [],
   "source": []
  }
 ],
 "metadata": {
  "kernelspec": {
   "display_name": "Python 3",
   "language": "python",
   "name": "python3"
  },
  "language_info": {
   "codemirror_mode": {
    "name": "ipython",
    "version": 3
   },
   "file_extension": ".py",
   "mimetype": "text/x-python",
   "name": "python",
   "nbconvert_exporter": "python",
   "pygments_lexer": "ipython3",
   "version": "3.7.3"
  }
 },
 "nbformat": 4,
 "nbformat_minor": 2
}
