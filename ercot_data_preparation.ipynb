{
 "cells": [
  {
   "cell_type": "code",
   "execution_count": 1,
   "metadata": {},
   "outputs": [],
   "source": [
    "%matplotlib notebook\n",
    "\n",
    "import pandas as pd\n",
    "from fastkml import  kml\n",
    "from matplotlib import pyplot as plt"
   ]
  },
  {
   "cell_type": "code",
   "execution_count": 2,
   "metadata": {},
   "outputs": [],
   "source": [
    "# The wind farm data (140256 timestamps x 164 wind farms)\n",
    "ercot_wind_power = pd.read_pickle(\"ercot_wind_power.pkl\")"
   ]
  },
  {
   "cell_type": "code",
   "execution_count": 3,
   "metadata": {},
   "outputs": [],
   "source": [
    "# get the locations for each of the wind farms\n",
    "ercot_locations = {}\n",
    "with open(\"rtmLmpPoints.kml\", 'rt', encoding=\"utf-8\") as ercot_location_file:\n",
    "    doc = ercot_location_file.read()\n",
    "    k = kml.KML()\n",
    "    k.from_string(doc)\n",
    "    features = list(k.features())\n",
    "    for folder in features[0].features():\n",
    "        for feat in folder.features():\n",
    "            coords_plus_name = list(feat.geometry.coords[0])\n",
    "            ercot_locations[feat.name] = coords_plus_name[:2]\n",
    "    ercot_location_file.close()\n",
    "\n",
    "# Add in coordinates of the locations not included or found in the provided KML file\n",
    "ercot_locations['ASTRA_UNIT1'] = [-102.071477, 34.786654]\n",
    "ercot_locations['KINGMTN_ALL'] = [-102.241490, 31.208996]"
   ]
  },
  {
   "cell_type": "code",
   "execution_count": 1,
   "metadata": {},
   "outputs": [],
   "source": [
    "# Plot the last few days of wind farm output for 4 of the wind farms\n",
    "# ercot_wind_power.iloc[-168*4:,:4].plot()\n",
    "# plt.ylabel(\"Wind power production (MWh)\")"
   ]
  },
  {
   "cell_type": "code",
   "execution_count": 5,
   "metadata": {},
   "outputs": [],
   "source": [
    "# We are provided GPS coordinates of the wind farms, but the names provided are slightly different from the data\n",
    "# We use a custom mapping to match the data with the coordinates\n",
    "\n",
    "import csv\n",
    "\n",
    "with open(\"data_name_to_coord_name.csv\", mode='r') as infile:\n",
    "    reader = csv.reader(infile)\n",
    "    name_mapping = dict()\n",
    "    name_mapping = {row[0]:row[1] for row in reader}\n",
    "    infile.close()\n",
    "\n",
    "data_name_to_coords = {key:ercot_locations[name_mapping[key]] for key in name_mapping}\n",
    "\n",
    "# print(data_name_to_coords)"
   ]
  },
  {
   "cell_type": "code",
   "execution_count": null,
   "metadata": {},
   "outputs": [],
   "source": []
  }
 ],
 "metadata": {
  "kernelspec": {
   "display_name": "Python 3",
   "language": "python",
   "name": "python3"
  },
  "language_info": {
   "codemirror_mode": {
    "name": "ipython",
    "version": 3
   },
   "file_extension": ".py",
   "mimetype": "text/x-python",
   "name": "python",
   "nbconvert_exporter": "python",
   "pygments_lexer": "ipython3",
   "version": "3.7.3"
  }
 },
 "nbformat": 4,
 "nbformat_minor": 2
}
