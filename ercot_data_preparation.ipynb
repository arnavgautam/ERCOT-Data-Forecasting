{
 "cells": [
  {
   "cell_type": "code",
   "execution_count": 25,
   "metadata": {},
   "outputs": [],
   "source": [
    "%matplotlib notebook\n",
    "\n",
    "import pandas as pd\n",
    "from fastkml import  kml\n",
    "from matplotlib import pyplot as plt\n",
    "from os import path\n",
    "import requests\n",
    "import shutil\n",
    "from pprint import pprint\n",
    "import pickle"
   ]
  },
  {
   "cell_type": "code",
   "execution_count": 20,
   "metadata": {},
   "outputs": [],
   "source": [
    "# The wind farm data (140256 timestamps x 164 wind farms)\n",
    "training_data_filename = \"ercot_wind_power.pkl\"\n",
    "# Download the data if it doesn't exist\n",
    "# if not path.exists(training_data_filename):\n",
    "#     TODO figure out how to correctly download this pickle file, because this code doesn't work\n",
    "#     r = requests.get(\"http://storage.googleapis.com/gridmatic/roscoe/\" + training_data_filename, stream=True)\n",
    "#     with open(training_data_filename, 'wb') as fin:\n",
    "#         shutil.copyfileobj(r.raw, fin)\n",
    "#         fin.close()\n",
    "#     pprint(r.raw)\n",
    "#     pickle(r.raw, training_data_filename)\n",
    "ercot_wind_power = pd.read_pickle(training_data_filename)"
   ]
  },
  {
   "cell_type": "code",
   "execution_count": 21,
   "metadata": {},
   "outputs": [],
   "source": [
    "# get the locations for each of the wind farms\n",
    "ercot_locations = {}\n",
    "with open(\"rtmLmpPoints.kml\", 'rt', encoding=\"utf-8\") as ercot_location_file:\n",
    "    doc = ercot_location_file.read()\n",
    "    k = kml.KML()\n",
    "    k.from_string(doc)\n",
    "    features = list(k.features())\n",
    "    for folder in features[0].features():\n",
    "        for feat in folder.features():\n",
    "            coords_plus_name = list(feat.geometry.coords[0])\n",
    "            ercot_locations[feat.name] = coords_plus_name[:2]\n",
    "    ercot_location_file.close()\n",
    "\n",
    "# Add in coordinates of the locations not included or found in the provided KML file\n",
    "ercot_locations['ASTRA_UNIT1'] = [-102.071477, 34.786654]\n",
    "ercot_locations['KINGMTN_ALL'] = [-102.241490, 31.208996]"
   ]
  },
  {
   "cell_type": "code",
   "execution_count": 22,
   "metadata": {},
   "outputs": [],
   "source": [
    "# Plot the last few days of wind farm output for 4 of the wind farms\n",
    "# ercot_wind_power.iloc[-168*4:,:4].plot()\n",
    "# plt.ylabel(\"Wind power production (MWh)\")"
   ]
  },
  {
   "cell_type": "code",
   "execution_count": 26,
   "metadata": {},
   "outputs": [
    {
     "name": "stdout",
     "output_type": "stream",
     "text": [
      "{'ANACACHO_ANA': [-100.15802, 29.215214], 'ASTRA_UNIT1': [-102.071477, 34.786654], 'BCATWIND_WIND_1': [-98.570491, 33.509188], 'BLSUMMIT_BLSMT1_5': [-99.367467, 34.293473], 'BLSUMMIT_BLSMT1_6': [-99.367467, 34.293473], 'BORDAS2_JAVEL2_A': [-98.931877, 27.358092], 'BORDAS2_JAVEL2_B': [-98.931877, 27.358092], 'BORDAS2_JAVEL2_C': [-98.931877, 27.358092], 'BORDAS_JAVEL18': [-98.931877, 27.358092], 'BORDAS_JAVEL20': [-98.931877, 27.358092], 'BRAZ_WND_WND1': [-101.146911, 32.949884], 'BRAZ_WND_WND2': [-101.146911, 32.949884], 'BRISCOE_WIND': [-101.374278, 34.371453], 'BRTSW_BCW1': [-98.363595, 33.073455], 'BUCKTHRN_UNIT1': [-98.353682, 32.376956], 'BUCKTHRN_UNIT2': [-98.353682, 32.376956], 'BUFF_GAP_UNIT1': [-100.115386, 32.298543], 'BUFF_GAP_UNIT2_1': [-100.115386, 32.298543], 'BUFF_GAP_UNIT2_2': [-100.115386, 32.298543], 'BUFF_GAP_UNIT3': [-100.115386, 32.298543], 'BULLCRK_WND1': [-101.605095, 32.906769], 'BULLCRK_WND2': [-101.605095, 32.906769], 'CALLAHAN_WND1': [-99.995602, 32.296385], 'CAPRIDG4_CR4': [-100.928076, 31.926188], 'CAPRIDGE_CR1': [-100.928076, 31.926188], 'CAPRIDGE_CR2': [-100.928076, 31.926188], 'CAPRIDGE_CR3': [-100.928076, 31.926188], 'CEDROHIL_CHW1': [-98.843784, 27.608743], 'CEDROHIL_CHW2': [-98.843784, 27.608743], 'CHAMPION_UNIT1': [-95.104872, 29.876916], 'COTPLNS_COTTONPL': [-101.184903, 33.979043], 'COTPLNS_OLDSETLR': [-97.424589, 27.950722], 'CSEC_CSECG1': [-100.83267, 32.753102], 'CSEC_CSECG2': [-100.83267, 32.753102], 'DERMOTT_UNIT1': [-100.975986, 32.864857], 'DERMOTT_UNIT2': [-100.975986, 32.864857], 'DIGBY_UNIT1': [-95.085844, 29.723605], 'DIGBY_UNIT2': [-95.085844, 29.723605], 'ELB_ELBCREEK': [-101.398767, 32.140883], 'ENAS_ENA1': [-100.735316, 32.73004], 'EXGNSND_WIND_1': [-98.909318, 27.191033], 'EXGNWTL_WIND_1': [-98.909318, 27.191033], 'FERMI_WIND1': [-100.711921, 29.76559], 'FERMI_WIND2': [-100.711921, 29.76559], 'FLTCK_SSI': [-98.46429, 32.33178], 'FLUVANNA_UNIT1': [-101.157666, 32.889822], 'FLUVANNA_UNIT2': [-101.157666, 32.889822], 'GOAT_GOATWIN2': [-100.861431, 31.909922], 'GOAT_GOATWIND': [-100.861431, 31.909922], 'GPASTURE_WIND_I': [-99.368737, 33.673808], 'GRANDVW1_COLA': [-101.36045, 35.25418], 'GRANDVW1_COLB': [-101.36045, 35.25418], 'GRANDVW1_GV1A': [-101.36045, 35.25418], 'GRANDVW1_GV1B': [-101.36045, 35.25418], 'GUNMTN_G1': [-101.410181, 32.196647], 'GWEC_GWEC_G1': [-98.56649, 31.43098], 'HHOLLOW2_WIND1': [-100.040198, 32.226344], 'HHOLLOW3_WND_1': [-100.040198, 32.226344], 'HHOLLOW4_WND1': [-100.040198, 32.226344], 'HORSECRK_UNIT1': [-99.552687, 33.289897], 'HORSECRK_UNIT2': [-99.552687, 33.289897], 'HRFDWIND_JRDWIND1': [-102.30457, 34.77335], 'HRFDWIND_JRDWIND2': [-102.30457, 34.77335], 'HRFDWIND_WIND_G': [-102.30457, 34.77335], 'HRFDWIND_WIND_V': [-102.30457, 34.77335], 'HWF_HWFG1': [-99.278334, 32.824168], 'H_HOLLOW_WND1': [-100.040198, 32.226344], 'INDL_INADALE1': [-100.596358, 32.497305], 'INDL_INADALE2': [-100.596358, 32.497305], 'INDNENR_INDNENR': [-102.092793, 30.915068], 'INDNENR_INDNENR_2': [-102.092793, 30.915068], 'KEECHI_U1': [-98.217426, 33.113825], 'KEO_KEO_SM1': [-102.365451, 30.822282], 'KEO_SHRBINO2': [-102.365451, 30.822282], 'KING_NE_KINGNE': [-102.24149, 31.208996], 'KING_NW_KINGNW': [-102.24149, 31.208996], 'KING_SE_KINGSE': [-102.24149, 31.208996], 'KING_SW_KINGSW': [-102.24149, 31.208996], 'LGD_LANGFORD': [-100.610184, 31.095183], 'LGW_UNIT1': [-98.686627, 31.847096], 'LGW_UNIT2': [-98.686627, 31.847096], 'LHORN_N_UNIT1': [-101.307401, 34.345076], 'LHORN_N_UNIT2': [-101.307401, 34.345076], 'LNCRK2_G871': [-99.542699, 32.530972], 'LNCRK2_G872': [-99.542699, 32.530972], 'LNCRK_G83': [-99.542699, 32.530972], 'LONEWOLF_G1': [-100.70936, 32.506124], 'LONEWOLF_G2': [-100.70936, 32.506124], 'LONEWOLF_G3': [-100.70936, 32.506124], 'LONEWOLF_G4': [-100.70936, 32.506124], 'LV3_UNIT_1': [-98.612325, 26.472989], 'LV4_UNIT_1': [-98.517847, 26.499807], 'LV5_UNIT_1': [-98.517847, 26.499807], 'MARIAH_NORTE1': [-102.670416, 34.677698], 'MARIAH_NORTE2': [-102.670416, 34.677698], 'MCDLD_FCW1': [-101.280114, 32.024824], 'MCDLD_SBW1': [-101.280114, 32.024824], 'MESQCRK_WND1': [-101.683502, 32.669103], 'MESQCRK_WND2': [-101.683502, 32.669103], 'MIAM1_G1': [-100.633457, 35.654473], 'MIAM1_G2': [-100.633457, 35.654473], 'MIRASOLE_MIR11': [-98.396504, 26.473188], 'MIRASOLE_MIR12': [-98.396504, 26.473188], 'MIRASOLE_MIR21': [-98.396504, 26.473188], 'MOZART_WIND_1': [-100.531169, 32.994719], 'MWEC_G1': [-100.972712, 33.751761], 'NBOHR_UNIT1': [-101.530192, 31.766443], 'NWF_NWF1': [-102.796692, 32.044332], 'NWF_NWF2': [-102.796692, 32.044332], 'OWF_OWF': [-101.37874, 32.106742], 'PC_NORTH_PANTHER1': [-101.469954, 32.137619], 'PC_SOUTH_PANTHER2': [-101.469954, 32.137619], 'PC_SOUTH_PANTHER3': [-101.469954, 32.137619], 'PH1_UNIT1': [-101.15381, 35.40226], 'PH1_UNIT2': [-101.15381, 35.40226], 'PH2_UNIT1': [-101.15381, 35.40226], 'PH2_UNIT2': [-101.15381, 35.40226], 'PYR_PYRON1': [-100.728414, 32.53232], 'PYR_PYRON2': [-100.728414, 32.53232], 'RDCANYON_RDCNY1': [-101.22708, 32.911705], 'ROUTE_66_WIND1': [-101.527459, 35.214192], 'RSNAKE_G1': [-101.406179, 31.689029], 'RSNAKE_G2': [-101.406179, 31.689029], 'SALTFORK_UNIT1': [-100.888395, 34.987137], 'SALTFORK_UNIT2': [-100.888395, 34.987137], 'SALVTION_UNIT1': [-99.666696, 33.319707], 'SALVTION_UNIT2': [-99.666696, 33.319707], 'SENATEWD_UNIT1': [-98.37243, 33.20315], 'SGMTN_SIGNALM2': [-101.360276, 32.240606], 'SGMTN_SIGNALMT': [-101.360276, 32.240606], 'SHANNONW_UNIT_1': [-98.360133, 33.536155], 'SPLAIN1_WIND1': [-101.371181, 34.147577], 'SPLAIN1_WIND2': [-101.371181, 34.147577], 'SPLAIN2_WIND21': [-101.370029, 34.083655], 'SPLAIN2_WIND22': [-101.370029, 34.083655], 'SRWE1_SRWE2': [-101.592308, 32.946879], 'SRWE1_UNIT1': [-101.592308, 32.946879], 'SSPURTWO_SS3WIND1': [-102.1834, 35.22615], 'SSPURTWO_SS3WIND2': [-102.1834, 35.22615], 'SSPURTWO_WIND_1': [-102.1834, 35.22615], 'STWF_T1': [-100.211385, 32.415988], 'SWEC_G1': [-101.838132, 32.239915], 'SWEETWN2_WND2': [-100.35102, 32.340995], 'SWEETWN2_WND24': [-100.35102, 32.340995], 'SWEETWN3_WND3A': [-100.35102, 32.340995], 'SWEETWN3_WND3B': [-100.35102, 32.340995], 'SWEETWN4_WND4A': [-100.499177, 32.303601], 'SWEETWN4_WND4B': [-100.499177, 32.303601], 'SWEETWN4_WND5': [-100.499177, 32.303601], 'SWEETWND_WND1': [-100.322188, 32.456486], 'SW_MESA_SW_MESA': [-102.120196, 31.084274], 'TKWSW1_ROSCOE': [-100.67276, 32.494611], 'TKWSW1_ROSCOE2A': [-100.67276, 32.494611], 'TRENT_TRENT': [-100.220527, 32.439597], 'TRINITY_TH1_BUS1': [-98.752121, 33.395958], 'TRINITY_TH1_BUS2': [-98.752121, 33.395958], 'TTWEC_G1': [-100.256468, 32.213737], 'TYLRWIND_UNIT1': [-97.386761, 33.722847], 'VERTIGO_WIND_I': [-99.386387, 33.63333], 'WEC_WECG1': [-101.132693, 33.95036], 'WHTTAIL_WR1': [-97.427082, 33.719111], 'WNDTHST2_UNIT1': [-98.522287, 33.540457], 'WOODWRD1_WOODWRD1': [-102.237844, 31.237908], 'WOODWRD2_WOODWRD2': [-102.237844, 31.237908]}\n"
     ]
    }
   ],
   "source": [
    "# We are provided GPS coordinates of the wind farms, but the names provided are slightly different from the data\n",
    "# We use a custom mapping to match the data with the coordinates\n",
    "\n",
    "import csv\n",
    "\n",
    "with open(\"data_name_to_coord_name.csv\", mode='r') as infile:\n",
    "    reader = csv.reader(infile)\n",
    "    name_mapping = dict()\n",
    "    name_mapping = {row[0]:row[1] for row in reader}\n",
    "    infile.close()\n",
    "\n",
    "data_name_to_coords = {key:ercot_locations[name_mapping[key]] for key in name_mapping}\n",
    "\n",
    "pprint(data_name_to_coords)\n",
    "\n",
    "with open('data_name_to_coords.pkl', 'wb') as handle:\n",
    "    pickle.dump(data_name_to_coords, handle, protocol=pickle.HIGHEST_PROTOCOL)"
   ]
  },
  {
   "cell_type": "code",
   "execution_count": null,
   "metadata": {},
   "outputs": [],
   "source": []
  }
 ],
 "metadata": {
  "kernelspec": {
   "display_name": "Python 3",
   "language": "python",
   "name": "python3"
  },
  "language_info": {
   "codemirror_mode": {
    "name": "ipython",
    "version": 3
   },
   "file_extension": ".py",
   "mimetype": "text/x-python",
   "name": "python",
   "nbconvert_exporter": "python",
   "pygments_lexer": "ipython3",
   "version": "3.7.3"
  }
 },
 "nbformat": 4,
 "nbformat_minor": 2
}
